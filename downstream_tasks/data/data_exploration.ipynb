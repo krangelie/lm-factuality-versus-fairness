{
 "cells": [
  {
   "cell_type": "code",
   "execution_count": null,
   "metadata": {
    "collapsed": true,
    "pycharm": {
     "name": "#%%\n"
    }
   },
   "outputs": [],
   "source": [
    "import pandas as pd\n",
    "import numpy as np\n",
    "import json\n",
    "import os"
   ]
  },
  {
   "cell_type": "code",
   "execution_count": null,
   "outputs": [],
   "source": [
    "path = \"/media/angelie/Samsung_T5/PhD/KEPTM-bias/OpenEntity/\""
   ],
   "metadata": {
    "collapsed": false,
    "pycharm": {
     "name": "#%%\n"
    }
   }
  },
  {
   "cell_type": "markdown",
   "source": [
    "## Questions\n",
    "* How many human entities are there?\n",
    "* What sensitive attributes are labeled?\n",
    "* What are the ratios of these attributes?\n",
    "* Create balanced counter-factual split?"
   ],
   "metadata": {
    "collapsed": false,
    "pycharm": {
     "name": "#%% md\n"
    }
   }
  },
  {
   "cell_type": "code",
   "execution_count": null,
   "outputs": [],
   "source": [
    "# LITE preprocessing\n",
    "# https://github.com/luka-group/lite/blob/main/data/process_ultrafine.py\n",
    "\n",
    "# input data dir\n",
    "dataset_path = os.path.join(path, 'release/crowd')\n",
    "# output data dir\n",
    "processed_dataset_path = os.path.join(path, 'processed_data')\n",
    "os.makedirs(processed_dataset_path, exist_ok=True)\n",
    "#  type vocab file\n",
    "type_vocab_file_path = os.path.join(path, 'release/ontology/types.txt')\n"
   ],
   "metadata": {
    "collapsed": false,
    "pycharm": {
     "name": "#%%\n"
    }
   }
  },
  {
   "cell_type": "code",
   "execution_count": null,
   "outputs": [],
   "source": [
    "# vocab indicates labels - todo: implement automated matching for gender-related terms and count\n",
    "#  entries in dataset"
   ],
   "metadata": {
    "collapsed": false,
    "pycharm": {
     "name": "#%%\n"
    }
   }
  }
 ],
 "metadata": {
  "kernelspec": {
   "display_name": "Python 3",
   "language": "python",
   "name": "python3"
  },
  "language_info": {
   "codemirror_mode": {
    "name": "ipython",
    "version": 2
   },
   "file_extension": ".py",
   "mimetype": "text/x-python",
   "name": "python",
   "nbconvert_exporter": "python",
   "pygments_lexer": "ipython2",
   "version": "2.7.6"
  }
 },
 "nbformat": 4,
 "nbformat_minor": 0
}